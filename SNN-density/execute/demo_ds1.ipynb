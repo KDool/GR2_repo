{
 "cells": [
  {
   "cell_type": "code",
   "execution_count": 1,
   "metadata": {},
   "outputs": [],
   "source": [
    "import pandas as pd\n",
    "import numpy as np\n",
    "from sklearn.cluster import DBSCAN\n",
    "from os import path\n",
    "from run_snndensity import read_dataset,read_snnArray,dbscan\n",
    "import sys\n",
    "sys.path.append('../../')\n",
    "from Evaluation.silhouette_coefficient import silhoutte_result\n",
    "snn_nparray = read_snnArray('../snn_computation/snn_distance_metric.csv')\n"
   ]
  },
  {
   "cell_type": "code",
   "execution_count": 2,
   "metadata": {},
   "outputs": [],
   "source": [
    "#DB SCAN\n",
    "\n",
    "def demo(input_minpts,input_eps):\n",
    "    data_labeled = dbscan(MinPts=input_minpts,Eps=input_eps,snn_nparray=snn_nparray)\n",
    "    labels = data_labeled.labels_\n",
    "    # print(labels)\n",
    "\n",
    "# Remove outliers\n",
    "    count = 0\n",
    "    for item in labels:\n",
    "        if item>-1:\n",
    "            count = count+1\n",
    "    # print(\"Number of true node \", count)  # Number of node after remove outliers\n",
    "\n",
    "    new_distance_metric = np.zeros((count,count),dtype=float)\n",
    "    label_dictionary_before = {}\n",
    "    \n",
    "    start = 0 \n",
    "    for item in labels:\n",
    "        label_dictionary_before[start]=item \n",
    "        start = start+1\n",
    "    # print(label_dictionary_before)\n",
    "    dictionary_no_outliers = {i:label_dictionary_before[i] for i in label_dictionary_before if label_dictionary_before[i]!=-1}\n",
    "    # print(dictionary_no_outliers)\n",
    "\n",
    "    k = dictionary_no_outliers.keys()\n",
    "\n",
    "    # Create a new name for each node after remove outliers\n",
    "    change_name_list={}\n",
    "    start = 0\n",
    "    for item in k:\n",
    "        change_name_list[start] = item\n",
    "        start = start+1\n",
    "\n",
    "    #Add value to new snn_array, to use for calculate  Silhoutte - after remove outliers\n",
    "    i=0\n",
    "    j=0\n",
    "    for i in range(0,count):\n",
    "        for j in range(i+1,count):\n",
    "            new_distance_metric[i][j] = snn_nparray[change_name_list[i]][change_name_list[j]]\n",
    "            new_distance_metric[j][i] = new_distance_metric[i][j]\n",
    "\n",
    "    # Silhoutte \n",
    "    new_label = list(dictionary_no_outliers.values())\n",
    "    number_of_cluster = len(set(new_label)) \n",
    "    if len(set(new_label)) > 1:\n",
    "        silhoute_removeouliers= silhoutte_result(new_distance_metric,new_label)\n",
    "    else:\n",
    "        print(\"Number of labels needs to > 1. ERROR!!\")\n",
    "        silhoute_removeouliers = -1\n",
    "\n",
    "    return silhoute_removeouliers,len(new_label),number_of_cluster,label_dictionary_before\n"
   ]
  },
  {
   "cell_type": "code",
   "execution_count": 10,
   "metadata": {},
   "outputs": [
    {
     "name": "stdout",
     "output_type": "stream",
     "text": [
      "Silhoutte \t Number of Clusters \t Number of nodes\n",
      "0.5196751942481924 19 129\n",
      "0.5100750005371928 12 108\n",
      "0.517969882717201 7 88\n",
      "0.508209032278478 6 83\n",
      "0.5390059075669844 6 78\n",
      "0.506701325683917 5 71\n",
      "0.506701325683917 5 71\n",
      "0.5003226645849598 4 61\n",
      "0.5040896358543417 3 51\n",
      "0.5040896358543417 3 51\n",
      "0.5277210884353741 2 35\n",
      "Number of labels needs to > 1. ERROR!!\n",
      "-1 1 22\n",
      "Number of labels needs to > 1. ERROR!!\n",
      "-1 1 20\n",
      "Number of labels needs to > 1. ERROR!!\n",
      "-1 1 20\n",
      "Number of labels needs to > 1. ERROR!!\n",
      "-1 1 20\n",
      "Number of labels needs to > 1. ERROR!!\n",
      "-1 1 20\n",
      "Number of labels needs to > 1. ERROR!!\n",
      "-1 1 20\n"
     ]
    }
   ],
   "source": [
    "list_minpts = [i for i in range (3,20)]\n",
    "eps = 0.65\n",
    "print(\"Silhoutte \\t Number of Clusters \\t Number of nodes\")\n",
    "for item in list_minpts:\n",
    "    score,number_of_nodes,num_clusters,label_dictionary = demo(item,eps)\n",
    "    print(score, num_clusters,number_of_nodes)"
   ]
  },
  {
   "cell_type": "code",
   "execution_count": 11,
   "metadata": {},
   "outputs": [
    {
     "name": "stdout",
     "output_type": "stream",
     "text": [
      "0.7932184353004214 20 72\n",
      "0.756106650555935 24 93\n",
      "0.7691852630026038 27 103\n",
      "0.7200716907872788 30 112\n",
      "0.7550900773252771 32 120\n",
      "0.7189566755760081 36 135\n",
      "0.691094855222317 38 144\n",
      "0.6664600668535048 42 157\n",
      "0.6568614967365756 46 167\n",
      "0.6394588041227534 52 181\n",
      "0.5918509261529006 55 196\n",
      "0.5742705145674987 61 210\n",
      "0.5437769251459266 68 227\n",
      "0.5216897677942888 78 248\n",
      "0.46860608827862343 96 293\n",
      "0.34814728315897353 145 426\n",
      "0.20145674999047672 272 838\n",
      "0.09639488660281718 576 2014\n",
      "0.022828595481381782 509 4704\n"
     ]
    }
   ],
   "source": [
    "list_eps=np.arange(0.05, 1, 0.05).tolist()\n",
    "for item in list_eps:\n",
    "    score,number_of_nodes,num_clusters,label_dictionary = demo(2,item)\n",
    "    print(score, num_clusters,number_of_nodes)\n",
    "\n",
    "\n",
    "\n"
   ]
  },
  {
   "cell_type": "code",
   "execution_count": 5,
   "metadata": {},
   "outputs": [],
   "source": [
    "# label_dictionary_before = {}\n",
    "# start = 0 \n",
    "# for item in labels:\n",
    "#     label_dictionary_before[start]=item \n",
    "#     start = start+1\n",
    "# print(label_dictionary_before)"
   ]
  },
  {
   "cell_type": "code",
   "execution_count": 6,
   "metadata": {},
   "outputs": [],
   "source": [
    "# dictionary_no_outliers = {i:label_dictionary_before[i] for i in label_dictionary_before if label_dictionary_before[i]!=-1}\n",
    "# print(dictionary_no_outliers)"
   ]
  },
  {
   "cell_type": "code",
   "execution_count": 7,
   "metadata": {},
   "outputs": [],
   "source": [
    "# k = dictionary_no_outliers.keys()\n",
    "# print(k)\n",
    "# change_name_list={}\n",
    "# start = 0\n",
    "# for item in k:\n",
    "#     change_name_list[start] = item\n",
    "#     start = start+1\n",
    "# print(change_name_list)"
   ]
  }
 ],
 "metadata": {
  "interpreter": {
   "hash": "aee8b7b246df8f9039afb4144a1f6fd8d2ca17a180786b69acc140d282b71a49"
  },
  "kernelspec": {
   "display_name": "Python 3.9.7 64-bit",
   "language": "python",
   "name": "python3"
  },
  "language_info": {
   "codemirror_mode": {
    "name": "ipython",
    "version": 3
   },
   "file_extension": ".py",
   "mimetype": "text/x-python",
   "name": "python",
   "nbconvert_exporter": "python",
   "pygments_lexer": "ipython3",
   "version": "3.9.7"
  },
  "orig_nbformat": 4
 },
 "nbformat": 4,
 "nbformat_minor": 2
}
