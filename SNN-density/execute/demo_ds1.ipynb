{
 "cells": [
  {
   "cell_type": "code",
   "execution_count": 1,
   "metadata": {},
   "outputs": [],
   "source": [
    "import pandas as pd\n",
    "import numpy as np\n",
    "from sklearn.cluster import DBSCAN\n",
    "from os import path\n",
    "from run_snndensity import read_dataset,read_snnArray,dbscan\n",
    "import sys\n",
    "sys.path.append('../../')\n",
    "from Evaluation.silhouette_coefficient import silhoutte_result\n",
    "snn_nparray = read_snnArray('../snn_computation/snn_distance_metric.csv')\n"
   ]
  },
  {
   "cell_type": "code",
   "execution_count": 2,
   "metadata": {},
   "outputs": [],
   "source": [
    "#DB SCAN\n",
    "\n",
    "def demo(input_minpts,input_eps):\n",
    "    data_labeled = dbscan(MinPts=input_minpts,Eps=input_eps,snn_nparray=snn_nparray)\n",
    "    labels = data_labeled.labels_\n",
    "    # print(labels)\n",
    "\n",
    "# Remove outliers\n",
    "    count = 0\n",
    "    for item in labels:\n",
    "        if item>-1:\n",
    "            count = count+1\n",
    "    # print(\"Number of true node \", count)  # Number of node after remove outliers\n",
    "\n",
    "    new_distance_metric = np.zeros((count,count),dtype=float)\n",
    "    label_dictionary_before = {}\n",
    "    \n",
    "    start = 0 \n",
    "    for item in labels:\n",
    "        label_dictionary_before[start]=item \n",
    "        start = start+1\n",
    "    # print(label_dictionary_before)\n",
    "    dictionary_no_outliers = {i:label_dictionary_before[i] for i in label_dictionary_before if label_dictionary_before[i]!=-1}\n",
    "    # print(dictionary_no_outliers)\n",
    "\n",
    "    k = dictionary_no_outliers.keys()\n",
    "\n",
    "    # Create a new name for each node after remove outliers\n",
    "    change_name_list={}\n",
    "    start = 0\n",
    "    for item in k:\n",
    "        change_name_list[start] = item\n",
    "        start = start+1\n",
    "\n",
    "    #Add value to new snn_array, to use for calculate  Silhoutte - after remove outliers\n",
    "    i=0\n",
    "    j=0\n",
    "    for i in range(0,count):\n",
    "        for j in range(i+1,count):\n",
    "            new_distance_metric[i][j] = snn_nparray[change_name_list[i]][change_name_list[j]]\n",
    "            new_distance_metric[j][i] = new_distance_metric[i][j]\n",
    "\n",
    "    # Silhoutte \n",
    "    new_label = list(dictionary_no_outliers.values())\n",
    "    number_of_cluster = len(set(new_label)) \n",
    "    if len(set(new_label)) > 1:\n",
    "        silhoute_removeouliers= silhoutte_result(new_distance_metric,new_label)\n",
    "    else:\n",
    "        print(\"Number of labels needs to > 1. ERROR!!\")\n",
    "        silhoute_removeouliers = -1\n",
    "\n",
    "    return silhoute_removeouliers,len(new_label),number_of_cluster,label_dictionary_before\n"
   ]
  },
  {
   "cell_type": "code",
   "execution_count": 3,
   "metadata": {},
   "outputs": [
    {
     "name": "stdout",
     "output_type": "stream",
     "text": [
      "Silhoutte \t Number of Clusters \t Number of nodes\n",
      "0.5196751942481924 19 129\n",
      "0.5100750005371928 12 108\n",
      "0.517969882717201 7 88\n",
      "0.508209032278478 6 83\n",
      "0.5390059075669844 6 78\n",
      "0.506701325683917 5 71\n",
      "0.506701325683917 5 71\n",
      "0.5003226645849598 4 61\n",
      "0.5040896358543417 3 51\n",
      "0.5040896358543417 3 51\n",
      "0.5277210884353741 2 35\n",
      "Number of labels needs to > 1. ERROR!!\n",
      "-1 1 22\n",
      "Number of labels needs to > 1. ERROR!!\n",
      "-1 1 20\n",
      "Number of labels needs to > 1. ERROR!!\n",
      "-1 1 20\n",
      "Number of labels needs to > 1. ERROR!!\n",
      "-1 1 20\n",
      "Number of labels needs to > 1. ERROR!!\n",
      "-1 1 20\n",
      "Number of labels needs to > 1. ERROR!!\n",
      "-1 1 20\n"
     ]
    }
   ],
   "source": [
    "list_minpts = [i for i in range (3,20)]\n",
    "eps = 0.65\n",
    "print(\"Silhoutte \\t Number of Clusters \\t Number of nodes\")\n",
    "for item in list_minpts:\n",
    "    score,number_of_nodes,num_clusters,label_dictionary = demo(item,eps)\n",
    "    print(score, num_clusters,number_of_nodes)"
   ]
  },
  {
   "cell_type": "code",
   "execution_count": 8,
   "metadata": {},
   "outputs": [
    {
     "name": "stdout",
     "output_type": "stream",
     "text": [
      "0.05 : 0.7932184353004214 20 72\n",
      "0.1 : 0.756106650555935 24 93\n",
      "0.15000000000000002 : 0.7691852630026038 27 103\n",
      "0.2 : 0.7200716907872788 30 112\n",
      "0.25 : 0.7550900773252771 32 120\n",
      "0.3 : 0.7189566755760081 36 135\n",
      "0.35000000000000003 : 0.691094855222317 38 144\n",
      "0.4 : 0.6664600668535048 42 157\n",
      "0.45 : 0.6568614967365756 46 167\n",
      "0.5 : 0.6394588041227534 52 181\n",
      "0.55 : 0.5918509261529006 55 196\n",
      "0.6000000000000001 : 0.5742705145674987 61 210\n",
      "0.6500000000000001 : 0.5437769251459266 68 227\n",
      "0.7000000000000001 : 0.5216897677942888 78 248\n",
      "0.7500000000000001 : 0.46860608827862343 96 293\n",
      "0.8 : 0.34814728315897353 145 426\n",
      "0.8500000000000001 : 0.20145674999047672 272 838\n",
      "0.9000000000000001 : 0.09639488660281718 576 2014\n",
      "0.9500000000000001 : 0.022828595481381782 509 4704\n"
     ]
    }
   ],
   "source": [
    "list_eps=np.arange(0.05, 1, 0.05).tolist()\n",
    "for item in list_eps:\n",
    "    score,number_of_nodes,num_clusters,label_dictionary = demo(2,item)\n",
    "    print(item,':',score, num_clusters,number_of_nodes)\n",
    "\n",
    "\n",
    "\n"
   ]
  },
  {
   "cell_type": "code",
   "execution_count": 11,
   "metadata": {},
   "outputs": [
    {
     "name": "stdout",
     "output_type": "stream",
     "text": [
      "0.022828595481381782 72 20\n",
      "Cluster:  0\n",
      "[1257, 1266, 1319, 7770, 7777, 7796, 7802, 7803, 7812, 7827, 7830, 7833, 7834, 7847, 7856, 7858, 7872, 7875]\n",
      "Cluster:  1\n",
      "[1430, 7644]\n",
      "Cluster:  2\n",
      "[3341, 3407, 3454]\n",
      "Cluster:  3\n",
      "[3679, 3740]\n",
      "Cluster:  4\n",
      "[3811, 4826]\n",
      "Cluster:  5\n",
      "[3852, 4783]\n",
      "Cluster:  6\n",
      "[4407, 9497]\n",
      "Cluster:  7\n",
      "[5557, 5562]\n",
      "Cluster:  8\n",
      "[5792, 5816]\n",
      "Cluster:  9\n",
      "[6007, 6027, 6099, 6129, 8261, 8295]\n",
      "Cluster:  10\n",
      "[6110, 6211, 6292]\n",
      "Cluster:  11\n",
      "[6497, 6504, 6529]\n",
      "Cluster:  12\n",
      "[6582, 6594]\n",
      "Cluster:  13\n",
      "[6698, 6703, 6712, 6750, 6774, 6776, 8990]\n",
      "Cluster:  14\n",
      "[6823, 8059]\n",
      "Cluster:  15\n",
      "[7748, 7757]\n",
      "Cluster:  16\n",
      "[8340, 8357]\n",
      "Cluster:  17\n",
      "[8400, 8432, 8435, 8462, 8558]\n",
      "Cluster:  18\n",
      "[8864, 8878, 8905]\n",
      "Cluster:  19\n",
      "[9201, 9218]\n"
     ]
    }
   ],
   "source": [
    "core,number_of_nodes,num_clusters,label_dictionary = demo(2,0.05)\n",
    "print(score,number_of_nodes,num_clusters)\n",
    "from collections import defaultdict\n",
    "df = pd.read_csv('../../../TwitterDataset/DE/DE_target.csv')\n",
    "df = df[['new_id','days','views']]\n",
    "v = defaultdict(list)\n",
    "\n",
    "for key, value in sorted(label_dictionary.items()):\n",
    "    v[value].append(key)\n",
    "for key in v.keys():\n",
    "    if (key!=-1):\n",
    "        print(\"Cluster: \",key)\n",
    "        nodes = v[key]\n",
    "        print(nodes)"
   ]
  },
  {
   "cell_type": "code",
   "execution_count": 12,
   "metadata": {},
   "outputs": [
    {
     "name": "stdout",
     "output_type": "stream",
     "text": [
      "     33 1124 4770 2471 4503 9134 1131 7260 2012 1863 2325 709 4144 484 1673 1967 2004 4631 1757 2432\n",
      "0     3776 7482 1318 3890 8209 2058 4284 1878 5670 6...                                             \n",
      "1     206 1647 7347 1146 1084 510 928 956 655 625 46...                                             \n",
      "2     1129 4526 56 250 4893 201 131 964 1591 6109 86...                                             \n",
      "3     1947 563 484 2257 1322 1463 2668 7818 1654 877...                                             \n",
      "4     6592 6703 7607 3541 1367 7605 6862 8475 8476 8...                                             \n",
      "...                                                 ...                                             \n",
      "9492  7748 1430 7872 1319 7770 7777 7796 7802 7803 7...                                             \n",
      "9493  7748 1430 7872 1319 7770 7777 7796 7802 7803 7...                                             \n",
      "9494  7748 1430 7872 1319 7770 7777 7796 7802 7803 7...                                             \n",
      "9495  7748 1430 7872 1319 7770 7777 7796 7802 7803 7...                                             \n",
      "9496  463 8084 2631 7064 8087 8784 8799 8818 2622 48...                                             \n",
      "\n",
      "[9497 rows x 1 columns]\n"
     ]
    },
    {
     "data": {
      "text/plain": [
       "0"
      ]
     },
     "execution_count": 12,
     "metadata": {},
     "output_type": "execute_result"
    }
   ],
   "source": [
    "\n",
    "\n",
    "# Function to count How many nodes that every items in a list shared as neighbors\n",
    "\n",
    "def count_sharing_nodes(input_list:list,path_knn=''):\n",
    "    count = 0\n",
    "    size = len(input_list)\n",
    "    \n",
    "    list_of_list=[]\n",
    "    df = pd.read_csv(path_knn,header=FALSE)\n",
    "    print(df)\n",
    "    return count\n",
    "a=[]\n",
    "count_sharing_nodes(a,'../knn_metrics/knn_metric.csv')"
   ]
  }
 ],
 "metadata": {
  "interpreter": {
   "hash": "aee8b7b246df8f9039afb4144a1f6fd8d2ca17a180786b69acc140d282b71a49"
  },
  "kernelspec": {
   "display_name": "Python 3.9.7 64-bit",
   "language": "python",
   "name": "python3"
  },
  "language_info": {
   "codemirror_mode": {
    "name": "ipython",
    "version": 3
   },
   "file_extension": ".py",
   "mimetype": "text/x-python",
   "name": "python",
   "nbconvert_exporter": "python",
   "pygments_lexer": "ipython3",
   "version": "3.9.7"
  },
  "orig_nbformat": 4
 },
 "nbformat": 4,
 "nbformat_minor": 2
}
