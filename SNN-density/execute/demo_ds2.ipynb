{
 "cells": [
  {
   "cell_type": "code",
   "execution_count": 1,
   "metadata": {},
   "outputs": [],
   "source": [
    "# This is the demo for Dataset Twitter - DE_target "
   ]
  },
  {
   "cell_type": "code",
   "execution_count": 2,
   "metadata": {},
   "outputs": [],
   "source": [
    "# Read Data\n",
    "import pandas as pd\n",
    "import numpy as np\n",
    "from sklearn import preprocessing\n",
    "# Return a numpy array\n",
    "def read_data(path=''):\n",
    "    df = pd.read_csv(path,index_col='new_id')\n",
    "    df = df[['days','views']]\n",
    "    df = df.sort_values(by=['new_id'])\n",
    "    df = df[['days','views']]\n",
    "    \n",
    "    # print(df)\n",
    "    np_array = df.to_numpy(dtype=float)\n",
    "    np_array = preprocessing.MinMaxScaler().fit_transform(np_array)\n",
    "    return np_array"
   ]
  },
  {
   "cell_type": "code",
   "execution_count": 3,
   "metadata": {},
   "outputs": [
    {
     "data": {
      "text/plain": [
       "9498"
      ]
     },
     "execution_count": 3,
     "metadata": {},
     "output_type": "execute_result"
    }
   ],
   "source": [
    "np_array = read_data('../../../TwitterDataset/DE/DE_target.csv')\n",
    "np_array\n",
    "np.amin(np_array)\n",
    "# np.amax(np_array)\n",
    "len(np_array)"
   ]
  },
  {
   "cell_type": "code",
   "execution_count": 4,
   "metadata": {},
   "outputs": [
    {
     "name": "stdout",
     "output_type": "stream",
     "text": [
      "[[0.         0.0451135  0.02618622 ... 0.20145191 0.2138969  0.07570651]\n",
      " [0.0451135  0.         0.01892765 ... 0.15633928 0.2590096  0.03059484]\n",
      " [0.02618622 0.01892765 0.         ... 0.17526575 0.240083   0.04952039]\n",
      " ...\n",
      " [0.20145191 0.15633928 0.17526575 ... 0.         0.41534875 0.1257454 ]\n",
      " [0.2138969  0.2590096  0.240083   ... 0.41534875 0.         0.28960339]\n",
      " [0.07570651 0.03059484 0.04952039 ... 0.1257454  0.28960339 0.        ]]\n"
     ]
    }
   ],
   "source": [
    "# Calculate similarity metrix\n",
    "import sys\n",
    "sys.path.append('../')\n",
    "from knn_metrics.similarity_metric import Euclidean_similarity_metric\n",
    "\n",
    "distance_metric = Euclidean_similarity_metric(np_array)\n",
    "print(distance_metric)"
   ]
  },
  {
   "cell_type": "code",
   "execution_count": 5,
   "metadata": {},
   "outputs": [
    {
     "data": {
      "text/plain": [
       "0.0"
      ]
     },
     "execution_count": 5,
     "metadata": {},
     "output_type": "execute_result"
    }
   ],
   "source": [
    "np.amin(distance_metric)\n"
   ]
  },
  {
   "cell_type": "code",
   "execution_count": 6,
   "metadata": {},
   "outputs": [
    {
     "data": {
      "text/plain": [
       "array([[1.        , 0.95683387, 0.974482  , ..., 0.83232628, 0.82379319,\n",
       "        0.9296216 ],\n",
       "       [0.95683387, 1.        , 0.98142395, ..., 0.86479809, 0.79427512,\n",
       "        0.97031342],\n",
       "       [0.974482  , 0.98142395, 1.        , ..., 0.85087139, 0.80639763,\n",
       "        0.95281617],\n",
       "       ...,\n",
       "       [0.83232628, 0.86479809, 0.85087139, ..., 1.        , 0.70653964,\n",
       "        0.88830032],\n",
       "       [0.82379319, 0.79427512, 0.80639763, ..., 0.70653964, 1.        ,\n",
       "        0.77543221],\n",
       "       [0.9296216 , 0.97031342, 0.95281617, ..., 0.88830032, 0.77543221,\n",
       "        1.        ]])"
      ]
     },
     "execution_count": 6,
     "metadata": {},
     "output_type": "execute_result"
    }
   ],
   "source": [
    "# Get similarity Metric:  similarity = 1/1+distance\n",
    "similarity_metric = np.zeros((len(distance_metric),len(distance_metric)))\n",
    "for i in range(0,len(distance_metric)):\n",
    "    for j in range(0,len(distance_metric)):\n",
    "        similarity_metric[i][j] = 1/(1+distance_metric[i][j])\n",
    "        \n",
    "similarity_metric"
   ]
  },
  {
   "cell_type": "code",
   "execution_count": 7,
   "metadata": {},
   "outputs": [
    {
     "name": "stdout",
     "output_type": "stream",
     "text": [
      "1.0\n",
      "0.47108316910411113\n"
     ]
    }
   ],
   "source": [
    "print(np.amax(similarity_metric))\n",
    "print(np.amin(similarity_metric))"
   ]
  },
  {
   "cell_type": "code",
   "execution_count": 8,
   "metadata": {},
   "outputs": [
    {
     "data": {
      "text/plain": [
       "array([[8324, 3459, 6262, ..., 8370, 5796, 9335],\n",
       "       [ 196, 6077, 5123, ..., 6814, 1941, 2006],\n",
       "       [6036, 2011, 9188, ..., 2788, 2769, 2532],\n",
       "       ...,\n",
       "       [4542, 3747, 7149, ..., 9282, 3492, 8326],\n",
       "       [2578,   46, 5989, ..., 4985, 6691, 3860],\n",
       "       [3630, 1928, 6465, ..., 3689, 3097, 2371]])"
      ]
     },
     "execution_count": 8,
     "metadata": {},
     "output_type": "execute_result"
    }
   ],
   "source": [
    "from knn_metrics import knn_metric\n",
    "knn_result = knn_metric.Knn_metric(similarity_metric,k=50)\n",
    "knn_result"
   ]
  },
  {
   "cell_type": "code",
   "execution_count": 9,
   "metadata": {},
   "outputs": [
    {
     "data": {
      "text/plain": [
       "(9498, 50)"
      ]
     },
     "execution_count": 9,
     "metadata": {},
     "output_type": "execute_result"
    }
   ],
   "source": [
    "knn_result.shape"
   ]
  },
  {
   "cell_type": "code",
   "execution_count": 10,
   "metadata": {},
   "outputs": [],
   "source": [
    "from snn_computation import snn_metric\n",
    "snn_distance_metric = snn_metric.create_snn_distance(knn_result)\n",
    "snn_similarity_metric = snn_metric.create_snnMetric(knn_result)\n"
   ]
  },
  {
   "cell_type": "code",
   "execution_count": 11,
   "metadata": {},
   "outputs": [
    {
     "name": "stdout",
     "output_type": "stream",
     "text": [
      "[[0. 1. 1. ... 1. 1. 1.]\n",
      " [1. 0. 1. ... 1. 1. 1.]\n",
      " [1. 1. 0. ... 1. 1. 1.]\n",
      " ...\n",
      " [1. 1. 1. ... 0. 1. 1.]\n",
      " [1. 1. 1. ... 1. 0. 1.]\n",
      " [1. 1. 1. ... 1. 1. 0.]]\n",
      "[[0 0 0 ... 0 0 0]\n",
      " [0 0 0 ... 0 0 0]\n",
      " [0 0 0 ... 0 0 0]\n",
      " ...\n",
      " [0 0 0 ... 0 0 0]\n",
      " [0 0 0 ... 0 0 0]\n",
      " [0 0 0 ... 0 0 0]]\n"
     ]
    }
   ],
   "source": [
    "print(snn_distance_metric)\n",
    "print(snn_similarity_metric)"
   ]
  },
  {
   "cell_type": "code",
   "execution_count": 26,
   "metadata": {},
   "outputs": [],
   "source": [
    "df_snn = pd.DataFrame(snn_distance_metric)\n",
    "# df_snn.to_csv('./snn_distance_metric_ds3.csv',header=False,sep=' ',index=False)\n"
   ]
  },
  {
   "cell_type": "code",
   "execution_count": 27,
   "metadata": {},
   "outputs": [],
   "source": [
    "df_snn = pd.DataFrame(snn_similarity_metric)\n",
    "# df_snn.to_csv('../snn_computation/snn_metric_ds3.csv',header=False,sep=' ',index=False)"
   ]
  },
  {
   "cell_type": "code",
   "execution_count": 28,
   "metadata": {},
   "outputs": [],
   "source": [
    "import pandas as pd\n",
    "import numpy as np\n",
    "from sklearn.cluster import DBSCAN\n",
    "from os import path\n",
    "from run_snndensity import read_dataset,read_snnArray,dbscan\n",
    "import sys\n",
    "sys.path.append('../../')\n",
    "from Evaluation.silhouette_coefficient import silhoutte_result\n",
    "#DB SCAN\n",
    "snn_nparray = snn_distance_metric.copy()\n",
    "def demo(input_minpts,input_eps):\n",
    "    data_labeled = dbscan(MinPts=input_minpts,Eps=input_eps,snn_nparray=snn_nparray)\n",
    "    labels = data_labeled.labels_\n",
    "    # print(labels)\n",
    "\n",
    "# Remove outliers\n",
    "    count = 0\n",
    "    for item in labels:\n",
    "        if item>-1:\n",
    "            count = count+1\n",
    "    # print(\"Number of true node \", count)  # Number of node after remove outliers\n",
    "\n",
    "    new_distance_metric = np.zeros((count,count),dtype=float)\n",
    "    label_dictionary_before = {}\n",
    "    \n",
    "    start = 0 \n",
    "    for item in labels:\n",
    "        label_dictionary_before[start]=item \n",
    "        start = start+1\n",
    "    # print(label_dictionary_before)\n",
    "    dictionary_no_outliers = {i:label_dictionary_before[i] for i in label_dictionary_before if label_dictionary_before[i]!=-1}\n",
    "    # print(dictionary_no_outliers)\n",
    "\n",
    "    k = dictionary_no_outliers.keys()\n",
    "\n",
    "    # Create a new name for each node after remove outliers\n",
    "    change_name_list={}\n",
    "    start = 0\n",
    "    for item in k:\n",
    "        change_name_list[start] = item\n",
    "        start = start+1\n",
    "\n",
    "    #Add value to new snn_array, to use for calculate  Silhoutte - after remove outliers\n",
    "    i=0\n",
    "    j=0\n",
    "    for i in range(0,count):\n",
    "        for j in range(i+1,count):\n",
    "            new_distance_metric[i][j] = snn_nparray[change_name_list[i]][change_name_list[j]]\n",
    "            new_distance_metric[j][i] = new_distance_metric[i][j]\n",
    "\n",
    "    # Silhoutte \n",
    "    new_label = list(dictionary_no_outliers.values())\n",
    "    number_of_cluster = len(set(new_label)) \n",
    "    if len(set(new_label)) > 1:\n",
    "        silhoute_removeouliers= silhoutte_result(new_distance_metric,new_label)\n",
    "    else:\n",
    "        print(\"Number of labels needs to > 1. ERROR!!\")\n",
    "        silhoute_removeouliers = -1\n",
    "\n",
    "    return silhoute_removeouliers,len(new_label),number_of_cluster,label_dictionary_before"
   ]
  },
  {
   "cell_type": "code",
   "execution_count": 29,
   "metadata": {},
   "outputs": [
    {
     "name": "stdout",
     "output_type": "stream",
     "text": [
      "Number of labels needs to > 1. ERROR!!\n",
      "Number of labels needs to > 1. ERROR!!\n",
      "Number of labels needs to > 1. ERROR!!\n",
      "Number of labels needs to > 1. ERROR!!\n",
      "Number of labels needs to > 1. ERROR!!\n",
      "Number of labels needs to > 1. ERROR!!\n",
      "Number of labels needs to > 1. ERROR!!\n",
      "Number of labels needs to > 1. ERROR!!\n",
      "Number of labels needs to > 1. ERROR!!\n",
      "Number of labels needs to > 1. ERROR!!\n",
      "Number of labels needs to > 1. ERROR!!\n",
      "Number of labels needs to > 1. ERROR!!\n",
      "Number of labels needs to > 1. ERROR!!\n",
      "Number of labels needs to > 1. ERROR!!\n",
      "Number of labels needs to > 1. ERROR!!\n"
     ]
    }
   ],
   "source": [
    "list_minpts = [i for i in range (2,20)]\n",
    "eps = 0.5\n",
    "for item in list_minpts:\n",
    "    score,number_of_nodes,num_clusters,label_dictionary = demo(item,eps)\n",
    "\n",
    "\n",
    "# snn_nparray"
   ]
  },
  {
   "cell_type": "code",
   "execution_count": 40,
   "metadata": {},
   "outputs": [
    {
     "name": "stdout",
     "output_type": "stream",
     "text": [
      "0.6339130434782608 23 7\n",
      "Cluster:  0\n",
      "      new_id  days  views\n",
      "7658     571  2012   7886\n",
      "      new_id  days  views\n",
      "1933    4733  2012   7193\n",
      "     new_id  days  views\n",
      "133    4854  2012   5380\n",
      "      new_id  days  views\n",
      "6111    8904  2012   6123\n",
      "Cluster:  1\n",
      "      new_id  days  views\n",
      "7153     663   756   1939\n",
      "      new_id  days  views\n",
      "7271    5985   756    523\n",
      "      new_id  days  views\n",
      "2183    7728   756   1262\n",
      "Cluster:  6\n",
      "     new_id  days  views\n",
      "772     869  1143  61961\n",
      "      new_id  days  views\n",
      "4154    1542  1143  74187\n",
      "      new_id  days  views\n",
      "6006    8607  1143  67667\n",
      "Cluster:  2\n",
      "      new_id  days  views\n",
      "9127    1481   744   1541\n",
      "      new_id  days  views\n",
      "1029    1670   744   2734\n",
      "      new_id  days  views\n",
      "2711    1715   744   2630\n",
      "     new_id  days  views\n",
      "409    8365   744   3035\n",
      "Cluster:  3\n",
      "      new_id  days  views\n",
      "9040    3091   676    820\n",
      "      new_id  days  views\n",
      "3934    4397   676    383\n",
      "      new_id  days  views\n",
      "1787    4767   676    810\n",
      "Cluster:  4\n",
      "      new_id  days  views\n",
      "1232    4573  1287   2042\n",
      "      new_id  days  views\n",
      "8778    4795  1287   1657\n",
      "      new_id  days  views\n",
      "2609    5046  1287   1929\n",
      "Cluster:  5\n",
      "      new_id  days  views\n",
      "4222    6788   900    654\n",
      "      new_id  days  views\n",
      "8627    7251   900    811\n",
      "      new_id  days  views\n",
      "4271    7785   900   1094\n"
     ]
    }
   ],
   "source": [
    "score,number_of_nodes,num_clusters,label_dictionary = demo(3,0.5)\n",
    "print(score,number_of_nodes,num_clusters)\n",
    "from collections import defaultdict\n",
    "df = pd.read_csv('../../../TwitterDataset/DE/DE_target.csv')\n",
    "df = df[['new_id','days','views']]\n",
    "v = defaultdict(list)\n",
    "\n",
    "for key, value in sorted(label_dictionary.items()):\n",
    "    v[value].append(key)\n",
    "for key in v.keys():\n",
    "    if (key!=-1):\n",
    "        print(\"Cluster: \",key)\n",
    "        nodes = v[key]\n",
    "        for n in nodes:\n",
    "            print(df.loc[df['new_id'].isin nodes])"
   ]
  },
  {
   "cell_type": "code",
   "execution_count": 35,
   "metadata": {},
   "outputs": [
    {
     "data": {
      "text/html": [
       "<div>\n",
       "<style scoped>\n",
       "    .dataframe tbody tr th:only-of-type {\n",
       "        vertical-align: middle;\n",
       "    }\n",
       "\n",
       "    .dataframe tbody tr th {\n",
       "        vertical-align: top;\n",
       "    }\n",
       "\n",
       "    .dataframe thead th {\n",
       "        text-align: right;\n",
       "    }\n",
       "</style>\n",
       "<table border=\"1\" class=\"dataframe\">\n",
       "  <thead>\n",
       "    <tr style=\"text-align: right;\">\n",
       "      <th></th>\n",
       "      <th>days</th>\n",
       "      <th>views</th>\n",
       "    </tr>\n",
       "    <tr>\n",
       "      <th>new_id</th>\n",
       "      <th></th>\n",
       "      <th></th>\n",
       "    </tr>\n",
       "  </thead>\n",
       "  <tbody>\n",
       "    <tr>\n",
       "      <th>0</th>\n",
       "      <td>1449</td>\n",
       "      <td>629</td>\n",
       "    </tr>\n",
       "    <tr>\n",
       "      <th>1</th>\n",
       "      <td>1275</td>\n",
       "      <td>26242</td>\n",
       "    </tr>\n",
       "    <tr>\n",
       "      <th>2</th>\n",
       "      <td>1348</td>\n",
       "      <td>6518</td>\n",
       "    </tr>\n",
       "    <tr>\n",
       "      <th>3</th>\n",
       "      <td>1338</td>\n",
       "      <td>1133</td>\n",
       "    </tr>\n",
       "    <tr>\n",
       "      <th>4</th>\n",
       "      <td>1437</td>\n",
       "      <td>2574</td>\n",
       "    </tr>\n",
       "    <tr>\n",
       "      <th>...</th>\n",
       "      <td>...</td>\n",
       "      <td>...</td>\n",
       "    </tr>\n",
       "    <tr>\n",
       "      <th>9493</th>\n",
       "      <td>1673</td>\n",
       "      <td>23053</td>\n",
       "    </tr>\n",
       "    <tr>\n",
       "      <th>9494</th>\n",
       "      <td>1179</td>\n",
       "      <td>2280</td>\n",
       "    </tr>\n",
       "    <tr>\n",
       "      <th>9495</th>\n",
       "      <td>672</td>\n",
       "      <td>4025</td>\n",
       "    </tr>\n",
       "    <tr>\n",
       "      <th>9496</th>\n",
       "      <td>2274</td>\n",
       "      <td>19898</td>\n",
       "    </tr>\n",
       "    <tr>\n",
       "      <th>9497</th>\n",
       "      <td>1157</td>\n",
       "      <td>78</td>\n",
       "    </tr>\n",
       "  </tbody>\n",
       "</table>\n",
       "<p>9498 rows × 2 columns</p>\n",
       "</div>"
      ],
      "text/plain": [
       "        days  views\n",
       "new_id             \n",
       "0       1449    629\n",
       "1       1275  26242\n",
       "2       1348   6518\n",
       "3       1338   1133\n",
       "4       1437   2574\n",
       "...      ...    ...\n",
       "9493    1673  23053\n",
       "9494    1179   2280\n",
       "9495     672   4025\n",
       "9496    2274  19898\n",
       "9497    1157     78\n",
       "\n",
       "[9498 rows x 2 columns]"
      ]
     },
     "execution_count": 35,
     "metadata": {},
     "output_type": "execute_result"
    }
   ],
   "source": []
  },
  {
   "cell_type": "code",
   "execution_count": 16,
   "metadata": {},
   "outputs": [
    {
     "name": "stdout",
     "output_type": "stream",
     "text": [
      "0.976 5 10\n",
      "0.9520000000000003 10 20\n",
      "0.9249203777731023 15 30\n",
      "0.881139981765902 25 50\n",
      "0.8506268383642116 34 68\n",
      "0.8155266372423285 46 92\n",
      "0.7779518580300804 55 115\n",
      "0.7401085533006359 73 151\n",
      "0.7113775496893628 85 177\n",
      "0.6840517569036277 95 199\n",
      "0.64724003338873 114 238\n",
      "0.5837094291874803 140 299\n",
      "0.5508002994924766 162 345\n",
      "0.484636583005609 211 453\n",
      "0.44881629928652683 239 518\n",
      "0.34792644531758776 349 776\n",
      "0.22526728663672282 613 1437\n",
      "0.06385603716084443 1327 5286\n",
      "0.0015203117541109567 87 8930\n"
     ]
    }
   ],
   "source": [
    "list_eps=np.arange(0.05, 1, 0.05).tolist()\n",
    "for item in list_eps:\n",
    "    score,number_of_nodes,num_clusters,label_dictionary = demo(2,item)\n",
    "    print(score, num_clusters,number_of_nodes)\n"
   ]
  },
  {
   "cell_type": "code",
   "execution_count": 17,
   "metadata": {},
   "outputs": [
    {
     "data": {
      "text/html": [
       "<div>\n",
       "<style scoped>\n",
       "    .dataframe tbody tr th:only-of-type {\n",
       "        vertical-align: middle;\n",
       "    }\n",
       "\n",
       "    .dataframe tbody tr th {\n",
       "        vertical-align: top;\n",
       "    }\n",
       "\n",
       "    .dataframe thead th {\n",
       "        text-align: right;\n",
       "    }\n",
       "</style>\n",
       "<table border=\"1\" class=\"dataframe\">\n",
       "  <thead>\n",
       "    <tr style=\"text-align: right;\">\n",
       "      <th></th>\n",
       "      <th>days</th>\n",
       "      <th>views</th>\n",
       "    </tr>\n",
       "  </thead>\n",
       "  <tbody>\n",
       "    <tr>\n",
       "      <th>0</th>\n",
       "      <td>0.350791</td>\n",
       "      <td>6.205502e-06</td>\n",
       "    </tr>\n",
       "    <tr>\n",
       "      <th>1</th>\n",
       "      <td>0.305678</td>\n",
       "      <td>2.613283e-04</td>\n",
       "    </tr>\n",
       "    <tr>\n",
       "      <th>2</th>\n",
       "      <td>0.324605</td>\n",
       "      <td>6.486393e-05</td>\n",
       "    </tr>\n",
       "    <tr>\n",
       "      <th>3</th>\n",
       "      <td>0.322012</td>\n",
       "      <td>1.122568e-05</td>\n",
       "    </tr>\n",
       "    <tr>\n",
       "      <th>4</th>\n",
       "      <td>0.347680</td>\n",
       "      <td>2.557902e-05</td>\n",
       "    </tr>\n",
       "    <tr>\n",
       "      <th>...</th>\n",
       "      <td>...</td>\n",
       "      <td>...</td>\n",
       "    </tr>\n",
       "    <tr>\n",
       "      <th>9493</th>\n",
       "      <td>0.408867</td>\n",
       "      <td>2.295637e-04</td>\n",
       "    </tr>\n",
       "    <tr>\n",
       "      <th>9494</th>\n",
       "      <td>0.280788</td>\n",
       "      <td>2.265058e-05</td>\n",
       "    </tr>\n",
       "    <tr>\n",
       "      <th>9495</th>\n",
       "      <td>0.149339</td>\n",
       "      <td>4.003196e-05</td>\n",
       "    </tr>\n",
       "    <tr>\n",
       "      <th>9496</th>\n",
       "      <td>0.564688</td>\n",
       "      <td>1.981378e-04</td>\n",
       "    </tr>\n",
       "    <tr>\n",
       "      <th>9497</th>\n",
       "      <td>0.275084</td>\n",
       "      <td>7.171688e-07</td>\n",
       "    </tr>\n",
       "  </tbody>\n",
       "</table>\n",
       "<p>9498 rows × 2 columns</p>\n",
       "</div>"
      ],
      "text/plain": [
       "          days         views\n",
       "0     0.350791  6.205502e-06\n",
       "1     0.305678  2.613283e-04\n",
       "2     0.324605  6.486393e-05\n",
       "3     0.322012  1.122568e-05\n",
       "4     0.347680  2.557902e-05\n",
       "...        ...           ...\n",
       "9493  0.408867  2.295637e-04\n",
       "9494  0.280788  2.265058e-05\n",
       "9495  0.149339  4.003196e-05\n",
       "9496  0.564688  1.981378e-04\n",
       "9497  0.275084  7.171688e-07\n",
       "\n",
       "[9498 rows x 2 columns]"
      ]
     },
     "execution_count": 17,
     "metadata": {},
     "output_type": "execute_result"
    }
   ],
   "source": [
    "df = pd.read_csv('../../../TwitterDataset/DE/DE_target.csv',index_col='new_id')\n",
    "df = df[['days','views']]\n",
    "df = df.sort_values(by=['new_id'])\n",
    "df = df[['days','views']]\n",
    "np_array = df.to_numpy(dtype=float)\n",
    "np_array = preprocessing.MinMaxScaler().fit_transform(np_array)\n",
    "df1 = pd.DataFrame(np_array,columns=['days','views'])\n",
    "df1"
   ]
  },
  {
   "cell_type": "code",
   "execution_count": 18,
   "metadata": {},
   "outputs": [
    {
     "data": {
      "image/png": "[encoded data removed]",
      "text/plain": [
       "<Figure size 432x288 with 1 Axes>"
      ]
     },
     "metadata": {
      "needs_background": "light"
     },
     "output_type": "display_data"
    }
   ],
   "source": [
    "import matplotlib.pyplot as plt\n",
    "ax1 = df1.plot.scatter(x='days',\n",
    "                      y='views',\n",
    "                      c='DarkBlue')"
   ]
  },
  {
   "cell_type": "code",
   "execution_count": 19,
   "metadata": {},
   "outputs": [
    {
     "data": {
      "text/plain": [
       "array([0, 0, 0, ..., 0, 0, 0])"
      ]
     },
     "execution_count": 19,
     "metadata": {},
     "output_type": "execute_result"
    }
   ],
   "source": [
    "X = DBSCAN(eps=0.0015,min_samples=5,metric=\"euclidean\").fit(np_array)\n",
    "X.labels_"
   ]
  },
  {
   "cell_type": "code",
   "execution_count": 20,
   "metadata": {},
   "outputs": [
    {
     "data": {
      "text/plain": [
       "17"
      ]
     },
     "execution_count": 20,
     "metadata": {},
     "output_type": "execute_result"
    }
   ],
   "source": [
    "len(set(X.labels_))"
   ]
  }
 ],
 "metadata": {
  "interpreter": {
   "hash": "aee8b7b246df8f9039afb4144a1f6fd8d2ca17a180786b69acc140d282b71a49"
  },
  "kernelspec": {
   "display_name": "Python 3.9.7 64-bit",
   "language": "python",
   "name": "python3"
  },
  "language_info": {
   "codemirror_mode": {
    "name": "ipython",
    "version": 3
   },
   "file_extension": ".py",
   "mimetype": "text/x-python",
   "name": "python",
   "nbconvert_exporter": "python",
   "pygments_lexer": "ipython3",
   "version": "3.9.7"
  },
  "orig_nbformat": 4
 },
 "nbformat": 4,
 "nbformat_minor": 2
}
