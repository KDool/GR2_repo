{
 "cells": [
  {
   "cell_type": "code",
   "execution_count": 5,
   "metadata": {},
   "outputs": [
    {
     "name": "stdout",
     "output_type": "stream",
     "text": [
      "G edges:  124450\n",
      "G nodes:  9498\n"
     ]
    }
   ],
   "source": [
    "# Create Graph From file SNN_metric\n",
    "import create_snnGraph as cs\n",
    "import networkx as nx\n",
    "import sparsify_snnGraph as ss\n",
    "\n",
    "# a = cs.readData('../snn_computation/snn_metric.csv')\n",
    "# a = cs.readData('../../SNN-density/snn_computation/snn_metric_ds2.csv')\n",
    "a = cs.readData('../../SNN-density/snn_computation/snn_metric_ds3.csv')\n",
    "G = cs.createGraph(a)\n",
    "\n",
    "print(\"G edges: \",G.number_of_edges())\n",
    "print(\"G nodes: \",G.number_of_nodes())\n",
    "\n",
    "\n"
   ]
  },
  {
   "cell_type": "code",
   "execution_count": 6,
   "metadata": {},
   "outputs": [],
   "source": [
    "# Silhoutte Coefficient\n",
    "import pandas as pd\n",
    "import numpy as np\n",
    "from os import path\n",
    "import sys\n",
    "sys.path.append('../../')\n",
    "from Evaluation.silhouette_coefficient import silhoutte_result\n",
    "def read_snnArray(file_path=None):\n",
    "    df = pd.read_csv(file_path,index_col=False,header=None,sep=' ')\n",
    "    snn_nparray = np.array(df)\n",
    "    return snn_nparray\n",
    "# snn_nparray = read_snnArray('../snn_computation/snn_distance_metric.csv')\n",
    "snn_nparray2 = read_snnArray('../../SNN-density/snn_computation/snn_distance_metric_ds3.csv')\n"
   ]
  },
  {
   "cell_type": "code",
   "execution_count": 8,
   "metadata": {},
   "outputs": [],
   "source": [
    "def demo(G:nx.Graph,distance_metrix,threshold,n):\n",
    "    G1 =  G.copy()\n",
    "    snn_nparray = distance_metrix\n",
    "    label_dictionary = {}\n",
    "    for j in range (G.number_of_nodes()):\n",
    "        label_dictionary[j]=-1\n",
    "    # Sparsify Graph\n",
    "    g = ss.sparsifyGraph(G1,threshold=threshold)\n",
    "    sub_graphs = nx.connected_components(g)\n",
    "\n",
    "    # Create labels for all nodes ,  label -1 for outlier\n",
    "    i = 0\n",
    "    for sub in sub_graphs:\n",
    "        if(len(sub)>n):\n",
    "            # print(i)\n",
    "            # print(sub)\n",
    "            for node in sub:\n",
    "                label_dictionary[node]=i \n",
    "            i +=1\n",
    "    labels = list(label_dictionary.values())\n",
    "\n",
    "# Remove outliers\n",
    "\n",
    "    l = np.array(labels)\n",
    "    count = 0\n",
    "    for item in l:\n",
    "        if item>-1:\n",
    "            count = count+1\n",
    "    new_distance_metric = np.zeros((count,count),dtype=float)\n",
    "    new_distance_metric.shape\n",
    "    dictionary_no_outliers = {i:label_dictionary[i] for i in label_dictionary if label_dictionary[i]!=-1}\n",
    "\n",
    "    k = dictionary_no_outliers.keys()\n",
    "    \n",
    "    # Create a new name for each node after remove outliers\n",
    "    change_name_list={}\n",
    "    start = 0\n",
    "    for item in k:\n",
    "        change_name_list[start] = item\n",
    "        start = start+1\n",
    "\n",
    "    #Add value to new snn_array, to use for calculate  Silhoutte - after remove outliers\n",
    "    i=0\n",
    "    j=0\n",
    "    for i in range(0,count):\n",
    "        for j in range(i+1,count):\n",
    "            new_distance_metric[i][j] = snn_nparray[change_name_list[i]][change_name_list[j]]\n",
    "            new_distance_metric[j][i] = new_distance_metric[i][j]\n",
    "     # Silhoutte \n",
    "    new_label = list(dictionary_no_outliers.values())\n",
    "    number_of_cluster = len(set(new_label)) \n",
    "    if len(set(new_label)) > 1:\n",
    "        silhoute_removeouliers= silhoutte_result(new_distance_metric,new_label)\n",
    "    else:\n",
    "        print(\"Number of labels needs to > 1. ERROR!!\")\n",
    "        silhoute_removeouliers = -1\n",
    "\n",
    "    return silhoute_removeouliers,len(new_label),number_of_cluster,label_dictionary\n",
    "\n",
    "    "
   ]
  },
  {
   "cell_type": "code",
   "execution_count": 10,
   "metadata": {},
   "outputs": [
    {
     "name": "stdout",
     "output_type": "stream",
     "text": [
      "1 0.00025288726176571173 9431 16\n",
      "2 0.0007017305306636791 9307 52\n",
      "3 0.0015203117541109567 8930 87\n",
      "4 0.021437848776648605 7441 809\n",
      "5 0.06385603716084443 5286 1327\n",
      "6 0.11330858195586262 3412 1187\n",
      "7 0.16965004003471004 2128 855\n",
      "8 0.22526728663672282 1437 613\n",
      "9 0.28882393393749456 1026 452\n",
      "10 0.3479264453175878 776 349\n",
      "11 0.3981843388597246 634 289\n",
      "12 0.42673199355937963 565 259\n",
      "13 0.4488162992865269 518 239\n",
      "14 0.4673107326708206 480 222\n",
      "15 0.484636583005609 453 211\n",
      "16 0.5023286378636621 422 197\n",
      "17 0.5247756335524537 387 181\n",
      "18 0.5508002994924766 345 162\n",
      "19 0.566533607263124 325 153\n",
      "20 0.5837094291874803 299 140\n",
      "21 0.6037291640040736 275 129\n",
      "22 0.6240554481701632 259 123\n",
      "23 0.64724003338873 238 114\n",
      "24 0.6576380507761541 226 108\n",
      "25 0.6840517569036277 199 95\n",
      "26 0.6977437379437641 188 90\n",
      "27 0.7067049704459225 180 86\n",
      "28 0.7113775496893628 177 85\n",
      "29 0.7244225273813588 164 79\n",
      "30 0.7401085533006359 151 73\n",
      "31 0.7459061486096278 145 70\n",
      "32 0.7535794755258064 137 66\n",
      "33 0.7779518580300804 115 55\n",
      "34 0.7858587606678111 110 53\n",
      "35 0.8019881277369562 103 51\n",
      "36 0.8155266372423285 92 46\n",
      "37 0.830012919985965 80 40\n",
      "38 0.8506268383642117 68 34\n",
      "39 0.870303555148127 56 28\n",
      "40 0.881139981765902 50 25\n",
      "41 0.9016902833298268 40 20\n",
      "42 0.9107669814775855 36 18\n",
      "43 0.9249203777731024 30 15\n",
      "44 0.9349081281997336 26 13\n",
      "45 0.9520000000000003 20 10\n",
      "46 0.9520000000000003 20 10\n",
      "47 0.9657142857142856 14 7\n",
      "48 0.976 10 5\n",
      "49 0.98 8 4\n"
     ]
    }
   ],
   "source": [
    "threshold_list = [i for i in range (1,50)]\n",
    "for item in threshold_list:\n",
    "    x1,x2,x3,x4 = demo(G,snn_nparray2,item,1)\n",
    "    print(item,x1, x2, x3)\n",
    "# print(x2)\n",
    "# print(x3)"
   ]
  }
 ],
 "metadata": {
  "interpreter": {
   "hash": "aee8b7b246df8f9039afb4144a1f6fd8d2ca17a180786b69acc140d282b71a49"
  },
  "kernelspec": {
   "display_name": "Python 3.9.7 64-bit",
   "language": "python",
   "name": "python3"
  },
  "language_info": {
   "codemirror_mode": {
    "name": "ipython",
    "version": 3
   },
   "file_extension": ".py",
   "mimetype": "text/x-python",
   "name": "python",
   "nbconvert_exporter": "python",
   "pygments_lexer": "ipython3",
   "version": "3.9.7"
  },
  "orig_nbformat": 4
 },
 "nbformat": 4,
 "nbformat_minor": 2
}
